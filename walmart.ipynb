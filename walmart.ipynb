{
 "cells": [
  {
   "cell_type": "code",
   "execution_count": 1,
   "metadata": {
    "collapsed": false
   },
   "outputs": [],
   "source": [
    "import pandas as pd\n",
    "import seaborn as sns\n",
    "import numpy as np\n",
    "import pylab as pl\n",
    "import sklearn.cross_validation, sklearn.metrics\n",
    "\n",
    "%matplotlib inline\n",
    "pd.set_option('display.mpl_style', 'default')\n",
    "pl.rcParams['figure.figsize'] = (20, 10)\n",
    "\n",
    "train = pd.read_csv('train.csv', low_memory=False)\n",
    "test = pd.read_csv('test.csv', low_memory=False)\n",
    "types = np.unique(train.TripType.values)\n",
    "types_dictionary = {t: i for i, t in  enumerate(types)}"
   ]
  },
  {
   "cell_type": "code",
   "execution_count": 2,
   "metadata": {
    "collapsed": true
   },
   "outputs": [],
   "source": [
    "def get_prior_probabilities(data):\n",
    "    prior_probabilities = np.zeros(len(types))\n",
    "    prior_probabilities += np.array([len(data[data.TripType == trip_type]) for trip_type in types])\n",
    "    prior_probabilities /= prior_probabilities.sum()\n",
    "    return prior_probabilities"
   ]
  },
  {
   "cell_type": "code",
   "execution_count": 20,
   "metadata": {
    "collapsed": false
   },
   "outputs": [
    {
     "name": "stdout",
     "output_type": "stream",
     "text": [
      "log_loss = 3.07533931456\n"
     ]
    }
   ],
   "source": [
    "validation = True\n",
    "if validation:\n",
    "    y = train.groupby('VisitNumber').TripType.median().values\n",
    "    \n",
    "    for train_indices, test_indices in sklearn.cross_validation.StratifiedShuffleSplit(y, n_iter=1, test_size=0.1):\n",
    "        data_train = train.iloc[train_indices]\n",
    "        data_test = train.iloc[test_indices]\n",
    "    \n",
    "        prior_probabilities = get_prior_probabilities(data_train)\n",
    "        y_true = data_test.groupby('VisitNumber').TripType.median().values\n",
    "        \n",
    "        prediction_matrix = np.asarray([prior_probabilities]*len(y_true))\n",
    "        prediction_matrix = np.delete(prediction_matrix, 7, axis=1)\n",
    "        \n",
    "        log_loss = sklearn.metrics.log_loss(y_true, prediction_matrix) \n",
    "        \n",
    "        print('log_loss =', log_loss)\n",
    "        \n",
    "    del data_train, data_test, prediction_matrix, prior_probabilities, log_loss\n",
    "    \n",
    "elif not validation:\n",
    "    prior_probabilities = get_prior_probabilities(train)\n",
    "    prediction_matrix = np.asarray([prior_probabilities]*len(test.groupby('VisitNumber').groups))\n",
    "    prediction_df = pd.DataFrame(prediction_matrix, columns=['TripType_' + str(i) for i in types])\n",
    "    prediction_df['VisitNumber'] = list(test.groupby('VisitNumber').groups.keys())\n",
    "    prediction_df = prediction_df[['VisitNumber'] + [x for x in prediction_df.columns if x != 'VisitNumber']]\n",
    "    del prediction_matrix, prior_probabilities\n",
    "    prediction_df.to_csv('prediction.csv', index=False)\n",
    "    "
   ]
  }
 ],
 "metadata": {
  "kernelspec": {
   "display_name": "Python 3",
   "language": "python",
   "name": "python3"
  },
  "language_info": {
   "codemirror_mode": {
    "name": "ipython",
    "version": 3
   },
   "file_extension": ".py",
   "mimetype": "text/x-python",
   "name": "python",
   "nbconvert_exporter": "python",
   "pygments_lexer": "ipython3",
   "version": "3.4.3"
  }
 },
 "nbformat": 4,
 "nbformat_minor": 0
}
