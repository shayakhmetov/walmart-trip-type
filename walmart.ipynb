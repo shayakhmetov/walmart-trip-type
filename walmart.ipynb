{
 "cells": [
  {
   "cell_type": "code",
   "execution_count": 1,
   "metadata": {
    "collapsed": false
   },
   "outputs": [],
   "source": [
    "import pandas as pd\n",
    "import seaborn as sns\n",
    "import numpy as np\n",
    "import pylab as pl\n",
    "import sklearn.cross_validation, sklearn.metrics\n",
    "\n",
    "%matplotlib inline\n",
    "pd.set_option('display.mpl_style', 'default')\n",
    "pl.rcParams['figure.figsize'] = (20, 10)\n",
    "\n",
    "train = pd.read_csv('train.csv', low_memory=False)\n",
    "test = pd.read_csv('test.csv', low_memory=False)\n",
    "types = np.unique(train.TripType.values)\n",
    "types_dictionary = {t: i for i, t in  enumerate(types)}"
   ]
  },
  {
   "cell_type": "code",
   "execution_count": 2,
   "metadata": {
    "collapsed": true
   },
   "outputs": [],
   "source": [
    "def get_prior_probabilities(data):\n",
    "    prior_probabilities = np.zeros(len(types))\n",
    "    prior_probabilities += np.array([len(data[data.TripType == trip_type]) for trip_type in types])\n",
    "    prior_probabilities /= prior_probabilities.sum()\n",
    "    return prior_probabilities"
   ]
  },
  {
   "cell_type": "code",
   "execution_count": 33,
   "metadata": {
    "collapsed": true
   },
   "outputs": [],
   "source": [
    "def normalize_proba(proba, eps=10**-15):\n",
    "    return np.max(np.min(proba, 1 - eps), eps)\n",
    "\n",
    "def validate_logloss(visit_type_array, prediction_matrix):\n",
    "\n",
    "    log_loss = 0.\n",
    "    N = np.unique(visit_type_array[:,0]).shape[0]\n",
    "    for i in range(len(visit_type_array)):\n",
    "        proba = normalize_proba(prediction_matrix[i, types_dictionary[visit_type_array[i, 1]]])\n",
    "        log_loss += np.log(proba)\n",
    "    log_loss = -log_loss/N\n",
    "    return log_loss"
   ]
  },
  {
   "cell_type": "code",
   "execution_count": 36,
   "metadata": {
    "collapsed": false
   },
   "outputs": [],
   "source": [
    "validation = False\n",
    "if validation:\n",
    "    log_loss_cv = 0.\n",
    "    n_folds = 5\n",
    "    #stratified KFold\n",
    "    for i, (train_indices, test_indices) in enumerate(sklearn.cross_validation.KFold(n=len(train),\n",
    "                                                                                     n_folds=n_folds, shuffle=True)):\n",
    "        data_train = train.iloc[train_indices]\n",
    "        data_test = train.iloc[test_indices]\n",
    "\n",
    "        prior_probabilities = get_prior_probabilities(data_train)\n",
    "        prediction_matrix = np.asarray([prior_probabilities]*len(data_test.groupby('VisitNumber').groups))\n",
    "        \n",
    "        log_loss = validate_logloss(data_train[['VisitNumber', 'TripType']].groupby('VisitNumber').TripType.median().reset_index().values,\n",
    "                                    prediction_matrix)\n",
    "        print('log_loss on', i+1, 'fold =', log_loss)\n",
    "        log_loss_cv += log_loss\n",
    "    del data_train, data_test, prediction_matrix, prior_probabilities, log_loss\n",
    "    log_loss_cv /= n_folds\n",
    "\n",
    "    print('LOG LOSS CV =', log_loss_cv)\n",
    "\n",
    "elif not validation:\n",
    "    prior_probabilities = get_prior_probabilities(train)\n",
    "    prediction_matrix = np.asarray([prior_probabilities]*len(test.groupby('VisitNumber').groups))\n",
    "    prediction_df = pd.DataFrame(prediction_matrix, columns=['TripType_' + str(i) for i in types])\n",
    "    prediction_df['VisitNumber'] = list(test.groupby('VisitNumber').groups.keys())\n",
    "    prediction_df = prediction_df[['VisitNumber'] + [x for x in prediction_df.columns if x != 'VisitNumber']]\n",
    "    del prediction_matrix, prior_probabilities\n",
    "    prediction_df.to_csv('prediction.csv', index=False)\n",
    "    "
   ]
  }
 ],
 "metadata": {
  "kernelspec": {
   "display_name": "Python 3",
   "language": "python",
   "name": "python3"
  },
  "language_info": {
   "codemirror_mode": {
    "name": "ipython",
    "version": 3
   },
   "file_extension": ".py",
   "mimetype": "text/x-python",
   "name": "python",
   "nbconvert_exporter": "python",
   "pygments_lexer": "ipython3",
   "version": "3.4.3"
  }
 },
 "nbformat": 4,
 "nbformat_minor": 0
}
