{
 "cells": [
  {
   "cell_type": "code",
   "execution_count": null,
   "metadata": {
    "collapsed": false
   },
   "outputs": [],
   "source": [
    "import pandas as pd\n",
    "import seaborn as sns\n",
    "import numpy as np\n",
    "import pylab as pl\n",
    "import sklearn.cross_validation, sklearn.metrics\n",
    "from sklearn.ensemble import RandomForestClassifier\n",
    "from sklearn.feature_extraction import DictVectorizer, FeatureHasher\n",
    "import scipy.stats\n",
    "\n",
    "%matplotlib inline\n",
    "pd.set_option('display.mpl_style', 'default')\n",
    "pl.rcParams['figure.figsize'] = (20, 10)\n",
    "\n",
    "train = pd.read_csv('train.csv', low_memory=False)\n",
    "test = pd.read_csv('test.csv', low_memory=False)\n",
    "types = np.unique(train.TripType.values)\n",
    "types_dictionary = {t: i for i, t in  enumerate(types)}"
   ]
  },
  {
   "cell_type": "code",
   "execution_count": null,
   "metadata": {
    "collapsed": false
   },
   "outputs": [],
   "source": [
    "def at(l):\n",
    "    return l.iloc[0]\n",
    "def mklist(l):\n",
    "    return list(l)\n",
    "\n",
    "train = train.groupby('VisitNumber').agg({'TripType': at, 'Weekday': at, 'ScanCount': at, 'DepartmentDescription': at,\n",
    "                                          'FinelineNumber': mklist, 'Upc': mklist}).reset_index()\n",
    "test = test.groupby('VisitNumber').agg({'Weekday': at, 'ScanCount': at, 'DepartmentDescription': at,\n",
    "                                        'FinelineNumber': mklist, 'Upc': mklist}).reset_index()\n"
   ]
  },
  {
   "cell_type": "code",
   "execution_count": null,
   "metadata": {
    "collapsed": true
   },
   "outputs": [],
   "source": [
    "def get_prior_probabilities(data):\n",
    "    prior_probabilities = np.zeros(len(types))\n",
    "    prior_probabilities += np.array([len(data[data.TripType == trip_type]) for trip_type in types])\n",
    "    prior_probabilities /= prior_probabilities.sum()\n",
    "    return prior_probabilities"
   ]
  },
  {
   "cell_type": "code",
   "execution_count": null,
   "metadata": {
    "collapsed": true
   },
   "outputs": [],
   "source": [
    "def construct_dummy_features(data, dummy_columns):\n",
    "    data = pd.get_dummies(data, sparse=True, dummy_na=False, columns=dummy_columns)\n",
    "    return data"
   ]
  },
  {
   "cell_type": "code",
   "execution_count": null,
   "metadata": {
    "collapsed": false
   },
   "outputs": [],
   "source": [
    "data = train.append(test)\n",
    "data = data[['VisitNumber', 'TripType', 'Weekday', 'ScanCount', 'DepartmentDescription']]\n",
    "data = construct_dummy_features(data, ['Weekday', 'DepartmentDescription'])\n",
    "train = data.iloc[:len(train)]\n",
    "test = data.iloc[len(train):]\n",
    "del data, test['TripType']"
   ]
  },
  {
   "cell_type": "code",
   "execution_count": null,
   "metadata": {
    "collapsed": false
   },
   "outputs": [],
   "source": [
    "def fit_predict(train_array, train_labels, test_array, prior_probabilities=None):\n",
    "    clf = RandomForestClassifier(n_estimators=100, max_depth=20, min_samples_leaf=1, max_features=0.1, n_jobs=-1)\n",
    "    clf.fit(train_array, train_labels)\n",
    "    prediction_matrix = clf.predict_proba(test_array)\n",
    "    if not prior_probabilities is None:\n",
    "        coeff = 0.1\n",
    "        prediction_matrix = (prediction_matrix + [prior_probabilities*coeff]*len(prediction_matrix))/(1. + coeff)\n",
    "    return prediction_matrix"
   ]
  },
  {
   "cell_type": "markdown",
   "metadata": {},
   "source": [
    "##MAIN"
   ]
  },
  {
   "cell_type": "code",
   "execution_count": null,
   "metadata": {
    "collapsed": false
   },
   "outputs": [],
   "source": [
    "validation = True\n",
    "\n",
    "if validation:\n",
    "    y = train.TripType.values\n",
    "\n",
    "    for train_indices, test_indices in sklearn.cross_validation.StratifiedShuffleSplit(y, n_iter=1, test_size=0.1):\n",
    "        data_train = train.iloc[train_indices]\n",
    "        data_test = train.iloc[test_indices]\n",
    "        \n",
    "#         prior_probabilities = get_prior_probabilities(data_train)\n",
    "        \n",
    "        prediction_matrix = fit_predict(data_train[[col for col in data_train.columns \n",
    "                                                    if col not in ['TripType', 'VisitNumber']]].values, \n",
    "                                        data_train.TripType.values, \n",
    "                                        data_test[[col for col in data_test.columns \n",
    "                                                   if col not in ['TripType', 'VisitNumber']]].values)\n",
    "        \n",
    "        prediction_matrix = np.delete(prediction_matrix, 7, axis=1)\n",
    "        \n",
    "        y_true = data_test.TripType.values\n",
    "        \n",
    "        log_loss = sklearn.metrics.log_loss(y_true, prediction_matrix) \n",
    "        \n",
    "        print('log_loss =', log_loss)\n",
    "     \n",
    "    del y, y_true, data_train, data_test, prediction_matrix, log_loss\n",
    "    \n",
    "elif not validation:\n",
    "#     prior_probabilities = get_prior_probabilities(train)\n",
    "    prediction_matrix = fit_predict(train[[col for col in train.columns \n",
    "                                            if col not in ['TripType', 'VisitNumber']]].values, \n",
    "                                     train.TripType.values, \n",
    "                                     test[[col for col in test.columns if col not in ['VisitNumber']]].values)\n",
    "    \n",
    "    prediction_df = pd.DataFrame(prediction_matrix, columns=['TripType_' + str(i) for i in types])\n",
    "    prediction_df['VisitNumber'] = test.VisitNumber\n",
    "    \n",
    "    prediction_df = prediction_df[['VisitNumber'] + [x for x in prediction_df.columns if x != 'VisitNumber']]\n",
    "    del prediction_matrix\n",
    "    filename = 'prediction.csv'\n",
    "    prediction_df.to_csv(filename, index=False)\n",
    "    print(filename, 'created')\n",
    "    "
   ]
  }
 ],
 "metadata": {
  "kernelspec": {
   "display_name": "Python 3",
   "language": "python",
   "name": "python3"
  },
  "language_info": {
   "codemirror_mode": {
    "name": "ipython",
    "version": 3
   },
   "file_extension": ".py",
   "mimetype": "text/x-python",
   "name": "python",
   "nbconvert_exporter": "python",
   "pygments_lexer": "ipython3",
   "version": "3.4.3"
  }
 },
 "nbformat": 4,
 "nbformat_minor": 0
}
