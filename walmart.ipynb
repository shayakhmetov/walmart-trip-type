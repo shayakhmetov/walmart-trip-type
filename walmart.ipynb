{
 "cells": [
  {
   "cell_type": "code",
   "execution_count": 1,
   "metadata": {
    "collapsed": false
   },
   "outputs": [],
   "source": [
    "import pandas as pd\n",
    "import seaborn as sns\n",
    "import numpy as np\n",
    "import pylab as pl\n",
    "import sklearn.cross_validation, sklearn.metrics\n",
    "from sklearn.ensemble import RandomForestClassifier\n",
    "from sklearn.linear_model import LogisticRegression, LogisticRegressionCV\n",
    "import scipy.stats\n",
    "import xgboost as xgb\n",
    "\n",
    "%matplotlib inline\n",
    "pd.set_option('display.mpl_style', 'default')\n",
    "pl.rcParams['figure.figsize'] = (20, 10)\n",
    "\n",
    "column_dtypes = {'ScanCount': 'int8'}\n",
    "\n",
    "train = pd.read_csv('train.csv', low_memory=False, dtype=column_dtypes)\n",
    "test = pd.read_csv('test.csv', low_memory=False, dtype=column_dtypes)\n",
    "types = np.unique(train.TripType.values)\n",
    "types_dictionary = {t: i for i, t in  enumerate(types)}"
   ]
  },
  {
   "cell_type": "code",
   "execution_count": 2,
   "metadata": {
    "collapsed": false
   },
   "outputs": [],
   "source": [
    "def transform_Upc(data):\n",
    "    data['UpcPrefix'] = data.Upc.map(lambda x: x // 10**10 % 10 ).astype('int8')\n",
    "    data['UpcManufacturer'] = data.Upc.map(lambda x: (x // 10**5) - (x // 10**10)*10**5 ).astype('int32')\n",
    "    data['UpcProduct'] = data.Upc.map(lambda x: x % 10**5).astype('int32')\n",
    "    data.ix[data.Upc == -1, ['UpcPrefix', 'UpcManufacturer', 'UpcProduct']] = -1\n",
    "    del data['Upc']\n",
    "    return data\n",
    "\n",
    "def preprocess_columns(data):\n",
    "    data.Upc = data.Upc.fillna(-1)\n",
    "    data.FinelineNumber = data.FinelineNumber.fillna(-1)\n",
    "    data = transform_Upc(data)\n",
    "    data.FinelineNumber = data.FinelineNumber.astype('int16')\n",
    "    return data\n",
    "\n",
    "train = preprocess_columns(train)\n",
    "test = preprocess_columns(test)\n"
   ]
  },
  {
   "cell_type": "code",
   "execution_count": 3,
   "metadata": {
    "collapsed": true
   },
   "outputs": [],
   "source": [
    "def get_frequence_feature(feature):\n",
    "    dict_counts = dict(feature.value_counts())\n",
    "    series = feature.map(lambda x: dict_counts[x])\n",
    "    return (series - series.min())/(series.max() - series.min())\n",
    "\n",
    "def encode_features(data):\n",
    "    data['FinelineNumberFreq'] = get_frequence_feature(data.FinelineNumber)\n",
    "    data['UpcManufacturerFreq'] = get_frequence_feature(data.UpcManufacturer)\n",
    "    data['UpcProductFreq'] = get_frequence_feature(data.UpcProduct)\n",
    "    \n",
    "    return data\n",
    "\n",
    "data = train.append(test)\n",
    "data = encode_features(data)\n",
    "train = data[:len(train)]\n",
    "test = data[len(train):]\n",
    "\n",
    "del data, test['TripType']"
   ]
  },
  {
   "cell_type": "code",
   "execution_count": 4,
   "metadata": {
    "collapsed": false
   },
   "outputs": [],
   "source": [
    "def at(l):\n",
    "    return l.iloc[0]\n",
    "def mklist(l):\n",
    "    return list(l)\n",
    "\n",
    "train_grouped = train.groupby('VisitNumber').agg({'TripType': at, 'Weekday': at, 'ScanCount': mklist, \n",
    "                                                  'DepartmentDescription': at, 'FinelineNumberFreq': mklist,\n",
    "                                                  'UpcPrefix': mklist, 'UpcManufacturerFreq': mklist,\n",
    "                                                  'UpcProductFreq': mklist}).reset_index()\n",
    "test_grouped = test.groupby('VisitNumber').agg({'Weekday': at, 'ScanCount': mklist, 'DepartmentDescription': at, \n",
    "                                                'FinelineNumberFreq': mklist, 'UpcPrefix': mklist,\n",
    "                                                'UpcManufacturerFreq': mklist, 'UpcProductFreq': mklist}).reset_index()"
   ]
  },
  {
   "cell_type": "code",
   "execution_count": 5,
   "metadata": {
    "collapsed": false
   },
   "outputs": [],
   "source": [
    "def construct_grouped_features(data):\n",
    "    \n",
    "    data['LogNumberOfReturned'] = data.ScanCount.map(lambda x: np.log(-sum([a for a in x if a < 0]) + 1))\n",
    "    data['NumberOfPurchased'] = data.ScanCount.map(lambda x: sum([a for a in x if a > 0]))\n",
    "    \n",
    "    data['MaxScanCount'] = data.ScanCount.map(lambda x: np.max(x)).astype('int8')\n",
    "    data['MinScanCount'] = data.ScanCount.map(lambda x: np.min(x)).astype('int8')\n",
    "    data['MaxMinScanCount'] = data.ScanCount.map(lambda x: np.max(x) - np.min(x)).astype('int16')\n",
    "    data['MeanScanCount'] = data.ScanCount.map(lambda x: np.mean(x))\n",
    "    \n",
    "    data['ModeUpcPrefix'] = data.UpcPrefix.map(lambda x: scipy.stats.mode(x)[0][0]).astype('int8')\n",
    "    data['DifferentUpcPrefix'] = data.UpcPrefix.map(lambda x: len(np.unique(x))).astype('int8')\n",
    "    #need more upcPrefix\n",
    "    \n",
    "    data['DifferentFinelineNumberFreq'] = data.FinelineNumberFreq.map(lambda x: len(np.unique(x)))\n",
    "    data['ModeFinelineNumberFreq'] = data.FinelineNumberFreq.map(lambda x: scipy.stats.mode(x)[0][0])\n",
    "    data['SumFinelineNumberFreq'] = data.FinelineNumberFreq.map(lambda x: np.sum(x))\n",
    "    data['MeanFinelineNumberFreq'] = data.FinelineNumberFreq.map(lambda x: np.mean(x))\n",
    "    data['MaxFinelineNumberFreq'] = data.FinelineNumberFreq.map(lambda x: np.max(x))\n",
    "    data['StdFinelineNumberFreq'] = data.FinelineNumberFreq.map(lambda x: np.std(x))\n",
    "    \n",
    "    data['DifferentUpcManufacturerFreq'] = data.UpcManufacturerFreq.map(lambda x: len(np.unique(x)))\n",
    "    data['ModeUpcManufacturerFreq'] = data.UpcManufacturerFreq.map(lambda x: scipy.stats.mode(x)[0][0])\n",
    "    data['SumUpcManufacturerFreq'] = data.UpcManufacturerFreq.map(lambda x: np.sum(x))\n",
    "    data['MeanUpcManufacturerFreq'] = data.UpcManufacturerFreq.map(lambda x: np.mean(x))\n",
    "    data['MaxUpcManufacturerFreq'] = data.UpcManufacturerFreq.map(lambda x: np.max(x))\n",
    "    data['StdUpcManufacturerFreq'] = data.UpcManufacturerFreq.map(lambda x: np.std(x))\n",
    "    \n",
    "    data['DifferentUpcProductFreq'] = data.UpcProductFreq.map(lambda x: len(np.unique(x)))\n",
    "    data['ModeUpcProductFreq'] = data.UpcProductFreq.map(lambda x: scipy.stats.mode(x)[0][0])\n",
    "    data['SumUpcProductFreq'] = data.UpcProductFreq.map(lambda x: np.sum(x))\n",
    "    data['MeanUpcProductFreq'] = data.UpcProductFreq.map(lambda x: np.mean(x))\n",
    "    data['MaxUpcProductFreq'] = data.UpcProductFreq.map(lambda x: np.max(x))\n",
    "    data['StdUpcProductFreq'] = data.UpcProductFreq.map(lambda x: np.std(x))\n",
    "    \n",
    "    \n",
    "    data['SumScanCountFlNFreq'] = data.apply(lambda r: sum(np.array(r.FinelineNumberFreq)*np.array(r.ScanCount)), axis=1)\n",
    "    data['SumScanCountUPtFreq'] = data.apply(lambda r: sum(np.array(r.UpcProductFreq)*np.array(r.ScanCount)), axis=1)\n",
    "    data['SumScanCountUMrFreq'] = data.apply(lambda r: sum(np.array(r.UpcManufacturerFreq)*np.array(r.ScanCount)), axis=1)\n",
    "    \n",
    "    data['MaxScanCountFlNFreq'] = data.apply(lambda r: max(np.array(r.FinelineNumberFreq)*np.array(r.ScanCount)), axis=1)\n",
    "    data['MaxScanCountUPtFreq'] = data.apply(lambda r: max(np.array(r.UpcProductFreq)*np.array(r.ScanCount)), axis=1)\n",
    "    data['MaxScanCountUMrFreq'] = data.apply(lambda r: max(np.array(r.UpcManufacturerFreq)*np.array(r.ScanCount)), axis=1)\n",
    "    \n",
    "    data['MaxFlNnUptnUMr'] = data.apply(lambda r:\n",
    "                                        np.max(np.array(r.UpcProductFreq) + np.array(r.UpcManufacturerFreq) +\n",
    "                                               np.array(r.FinelineNumberFreq)), axis=1)\n",
    "    data['MeanFlNnUptnUMr'] = data.apply(lambda r:\n",
    "                                        np.mean(np.array(r.UpcProductFreq) + np.array(r.UpcManufacturerFreq) +\n",
    "                                               np.array(r.FinelineNumberFreq)), axis=1)\n",
    "    data['StdFlNnUptnUMr'] = data.apply(lambda r:\n",
    "                                        np.std(np.array(r.UpcProductFreq) + np.array(r.UpcManufacturerFreq) +\n",
    "                                               np.array(r.FinelineNumberFreq)), axis=1)\n",
    "    \n",
    "    return data\n",
    "\n",
    "train_grouped = construct_grouped_features(train_grouped)\n",
    "test_grouped = construct_grouped_features(test_grouped)"
   ]
  },
  {
   "cell_type": "markdown",
   "metadata": {},
   "source": [
    "#####Plotting distribution of generated features"
   ]
  },
  {
   "cell_type": "code",
   "execution_count": 15,
   "metadata": {
    "collapsed": false,
    "scrolled": true
   },
   "outputs": [
    {
     "data": {
      "text/plain": [
       "<matplotlib.axes._subplots.AxesSubplot at 0x7f17fb3837b8>"
      ]
     },
     "execution_count": 15,
     "metadata": {},
     "output_type": "execute_result"
    },
    {
     "data": {
      "image/png": "[encoded data removed]",
      "text/plain": [
       "<matplotlib.figure.Figure at 0x7f17fb383128>"
      ]
     },
     "metadata": {},
     "output_type": "display_data"
    }
   ],
   "source": [
    "sns.boxplot(train_grouped.TripType, \n",
    "            train_grouped.apply(lambda r: \n",
    "                                np.median(np.array(r.UpcProductFreq) + np.array(r.UpcManufacturerFreq) +\n",
    "                                               np.array(r.FinelineNumberFreq)/3), axis=1))\n"
   ]
  },
  {
   "cell_type": "code",
   "execution_count": 16,
   "metadata": {
    "collapsed": true
   },
   "outputs": [],
   "source": [
    "def construct_dummy_features(data, dummy_columns):\n",
    "    data = pd.get_dummies(data, sparse=True, dummy_na=False, columns=dummy_columns)\n",
    "    return data"
   ]
  },
  {
   "cell_type": "code",
   "execution_count": 17,
   "metadata": {
    "collapsed": false
   },
   "outputs": [
    {
     "name": "stdout",
     "output_type": "stream",
     "text": [
      "117 features constructed\n",
      "Memory usage of dataframe train_dummies is 26.73 Mb\n",
      "Memory usage of dataframe test_dummies is 26.00 Mb\n"
     ]
    }
   ],
   "source": [
    "expanded_features = ['UpcPrefix', 'UpcManufacturerFreq', 'UpcProductFreq', 'FinelineNumberFreq', 'ScanCount']\n",
    "\n",
    "data = train_grouped.append(test_grouped)\n",
    "data = data[[col for col in data.columns if col not in expanded_features]]\n",
    "\n",
    "data = construct_dummy_features(data, ['Weekday', 'DepartmentDescription', 'ModeUpcPrefix'])\n",
    "\n",
    "for i in [1,4,5,9]:\n",
    "    del data['ModeUpcPrefix_' + str(i)]\n",
    "\n",
    "train_dummies = data.iloc[:len(train_grouped)]\n",
    "test_dummies = data.iloc[len(train_grouped):]\n",
    "del data, test_dummies['TripType']\n",
    "print(len(test_dummies.columns), 'features constructed')\n",
    "print('Memory usage of dataframe train_dummies is %3.2f Mb' % (train_dummies.memory_usage(index=True).sum()/(1024*1024)))\n",
    "print('Memory usage of dataframe test_dummies is %3.2f Mb' % (test_dummies.memory_usage(index=True).sum()/(1024*1024)))"
   ]
  },
  {
   "cell_type": "code",
   "execution_count": 18,
   "metadata": {
    "collapsed": true
   },
   "outputs": [],
   "source": [
    "# del train, test, train_grouped, test_grouped"
   ]
  },
  {
   "cell_type": "code",
   "execution_count": 19,
   "metadata": {
    "collapsed": true
   },
   "outputs": [],
   "source": [
    "def get_prior_probabilities(data):\n",
    "    prior_probabilities = np.zeros(len(types))\n",
    "    prior_probabilities += np.array([len(data[data.TripType == trip_type]) for trip_type in types])\n",
    "    prior_probabilities /= prior_probabilities.sum()\n",
    "    return prior_probabilities"
   ]
  },
  {
   "cell_type": "code",
   "execution_count": 127,
   "metadata": {
    "collapsed": false
   },
   "outputs": [],
   "source": [
    "def fit_predict(train_array, train_labels, test_array, prior_probabilities=None, algorithm='rf', alpha=None, \n",
    "                plot_importance=True, feature_names=None):\n",
    "    if algorithm == 'xgb':\n",
    "        clf = xgb.XGBClassifier(n_estimators=30, max_depth=9, learning_rate=0.3, objective='multi:softprob', \n",
    "                                colsample_bytree=0.4, subsample=0.4)\n",
    "        clf.fit(train_array, train_labels)\n",
    "        prediction_matrix = clf.predict_proba(test_array)\n",
    "        \n",
    "        if plot_importance and feature_names:\n",
    "            with open('xgb.fmap', 'w') as outfile:\n",
    "                for i, feature_name in enumerate(feature_names):\n",
    "                    outfile.write('{0}\\t{1}\\tq\\n'.format(i, feature_name))\n",
    "            importances = clf.booster().get_fscore('xgb.fmap')\n",
    "            feature_names = list(importances.keys())\n",
    "            importances = np.array(list(importances.values()))\n",
    "            pl.title('Feature Importance')\n",
    "            sorted_indices = np.argsort(importances)[::-1]\n",
    "            for i, k in enumerate(sorted_indices):\n",
    "                print('%2d (feature %2d):' % (i, k), feature_names[k], 'Value = %.5f' % importances[k])\n",
    "#             print([feature_names[k] for k in sorted_indices])\n",
    "            sns.barplot(np.arange(len(feature_names)), importances[sorted_indices], color='r')\n",
    "                        \n",
    "    elif algorithm in ['rf']:\n",
    "        if algorithm == 'rf':\n",
    "            clf = RandomForestClassifier(n_estimators=150, max_depth=20, min_samples_leaf=1, max_features=0.2, n_jobs=-1)\n",
    "        clf.fit(train_array, train_labels)\n",
    "        prediction_matrix = clf.predict_proba(test_array)\n",
    "        if plot_importance and feature_names:\n",
    "            importances = clf.feature_importances_\n",
    "            std = np.std([tree.feature_importances_ for tree in clf.estimators_], axis=0)\n",
    "            pl.title('Feature Importance')\n",
    "            sorted_indices = np.argsort(importances)[::-1]\n",
    "            for i, k in enumerate(sorted_indices):\n",
    "                print('%2d (feature %2d):' % (i, k), feature_names[k], 'Value = %.5f' % importances[k])\n",
    "#             print([feature_names[k] for k in sorted_indices])\n",
    "\n",
    "            pl.bar(range(len(feature_names)), importances[sorted_indices], color='r',\n",
    "                   yerr=std[sorted_indices], align='center')\n",
    "            pl.xticks(range(len(feature_names)), sorted_indices)\n",
    "            pl.xlim([-1, len(feature_names) + 1])\n",
    "    \n",
    "    elif algorithm in ['logit']:\n",
    "        if algorithm == 'logit':\n",
    "            clf = LogisticRegressionCV(Cs=5, n_jobs=-1)\n",
    "        clf.fit(train_array, train_labels)\n",
    "        print(clf.C_)\n",
    "        prediction_matrix = clf.predict_proba(test_array)\n",
    "        \n",
    "    if not prior_probabilities is None:\n",
    "        coeff = 0.1\n",
    "        prediction_matrix = (prediction_matrix + [prior_probabilities*coeff]*len(prediction_matrix))/(1. + coeff)\n",
    "    return prediction_matrix"
   ]
  },
  {
   "cell_type": "code",
   "execution_count": 21,
   "metadata": {
    "collapsed": false
   },
   "outputs": [],
   "source": [
    "def train_and_score(train_dummies, grid_space=[0], algorithm='rf', plot_importance=True):\n",
    "    if len(grid_space) > 1:\n",
    "        alphas, scores = [], []\n",
    "        min_alpha, min_score = 1., 10**5\n",
    "    \n",
    "    for alpha in grid_space:\n",
    "        if len(grid_space) > 1:\n",
    "            print('alpha =', alpha)\n",
    "        y = train_dummies.TripType.values\n",
    "        for train_indices, test_indices in sklearn.cross_validation.StratifiedShuffleSplit(y, n_iter=1, test_size=0.1):\n",
    "            data_train = train_dummies.iloc[train_indices]\n",
    "            data_test = train_dummies.iloc[test_indices]\n",
    "\n",
    "    #         prior_probabilities = get_prior_probabilities(data_train)\n",
    "            feature_names = [col for col in data_train.columns if col not in ['TripType']]\n",
    "            \n",
    "            prediction_matrix = fit_predict(data_train[feature_names].values, \n",
    "                                            data_train.TripType.values, \n",
    "                                            data_test[feature_names].values, \n",
    "                                            algorithm=algorithm, alpha=alpha, plot_importance=plot_importance, \n",
    "                                            feature_names=feature_names)\n",
    "\n",
    "            prediction_matrix = np.delete(prediction_matrix, 7, axis=1)\n",
    "            y_true = data_test.TripType.values\n",
    "            \n",
    "            mlogloss = sklearn.metrics.log_loss(y_true, prediction_matrix) \n",
    "            \n",
    "            print('mlogloss =', mlogloss, end='\\n\\n')\n",
    "            \n",
    "            if len(grid_space) > 1:\n",
    "                alphas.append(alpha)\n",
    "                scores.append(mlogloss)\n",
    "                if mlogloss <= min_score:\n",
    "                    min_score = mlogloss\n",
    "                    min_alpha = alpha\n",
    "    if len(grid_space) > 1:\n",
    "        return alphas, scores, min_alpha, min_score\n",
    "    else:\n",
    "        return mlogloss"
   ]
  },
  {
   "cell_type": "markdown",
   "metadata": {},
   "source": [
    "##MAIN"
   ]
  },
  {
   "cell_type": "code",
   "execution_count": 23,
   "metadata": {
    "collapsed": true
   },
   "outputs": [],
   "source": [
    "train_dump = train_dummies\n",
    "test_dump = test_dummies"
   ]
  },
  {
   "cell_type": "code",
   "execution_count": 26,
   "metadata": {
    "collapsed": true
   },
   "outputs": [],
   "source": [
    "train_dummies = train_dump\n",
    "test_dummies = test_dump"
   ]
  },
  {
   "cell_type": "code",
   "execution_count": 111,
   "metadata": {
    "collapsed": false
   },
   "outputs": [],
   "source": [
    "feature_selection = ['VisitNumber', 'NumberOfPurchased', 'DifferentUpcProductFreq', 'MeanScanCount', \n",
    "                     'SumScanCountFlNFreq', 'MeanFlNnUptnUMr', 'MaxFlNnUptnUMr', 'ModeUpcPrefix_0',\n",
    "                     'ModeUpcPrefix_6', 'DifferentUpcPrefix', 'LogNumberOfReturned']\n",
    "train_dummies = train_dump[feature_selection + ['TripType']]\n",
    "test_dummies = test_dump[feature_selection]"
   ]
  },
  {
   "cell_type": "code",
   "execution_count": 128,
   "metadata": {
    "collapsed": false,
    "scrolled": false
   },
   "outputs": [
    {
     "ename": "KeyboardInterrupt",
     "evalue": "",
     "output_type": "error",
     "traceback": [
      "\u001b[1;31m---------------------------------------------------------------------------\u001b[0m",
      "\u001b[1;31mKeyboardInterrupt\u001b[0m                         Traceback (most recent call last)",
      "\u001b[1;32m<ipython-input-128-0757aecd8a8c>\u001b[0m in \u001b[0;36m<module>\u001b[1;34m()\u001b[0m\n\u001b[0;32m     14\u001b[0m         \u001b[0mpl\u001b[0m\u001b[1;33m.\u001b[0m\u001b[0mplot\u001b[0m\u001b[1;33m(\u001b[0m\u001b[0malphas\u001b[0m\u001b[1;33m,\u001b[0m \u001b[0mscores\u001b[0m\u001b[1;33m,\u001b[0m \u001b[1;34m'r.--'\u001b[0m\u001b[1;33m)\u001b[0m\u001b[1;33m\u001b[0m\u001b[0m\n\u001b[0;32m     15\u001b[0m     \u001b[1;32melse\u001b[0m\u001b[1;33m:\u001b[0m\u001b[1;33m\u001b[0m\u001b[0m\n\u001b[1;32m---> 16\u001b[1;33m         \u001b[0mmlogloss\u001b[0m \u001b[1;33m=\u001b[0m \u001b[0mtrain_and_score\u001b[0m\u001b[1;33m(\u001b[0m\u001b[0mtrain_dummies\u001b[0m\u001b[1;33m,\u001b[0m \u001b[0malgorithm\u001b[0m\u001b[1;33m=\u001b[0m\u001b[0malgorithm\u001b[0m\u001b[1;33m)\u001b[0m\u001b[1;33m\u001b[0m\u001b[0m\n\u001b[0m\u001b[0;32m     17\u001b[0m \u001b[1;33m\u001b[0m\u001b[0m\n\u001b[0;32m     18\u001b[0m \u001b[1;32melif\u001b[0m \u001b[1;32mnot\u001b[0m \u001b[0mvalidation\u001b[0m\u001b[1;33m:\u001b[0m\u001b[1;33m\u001b[0m\u001b[0m\n",
      "\u001b[1;32m<ipython-input-21-25f2690277f3>\u001b[0m in \u001b[0;36mtrain_and_score\u001b[1;34m(train_dummies, grid_space, algorithm, plot_importance)\u001b[0m\n\u001b[0;32m     19\u001b[0m                                             \u001b[0mdata_test\u001b[0m\u001b[1;33m[\u001b[0m\u001b[0mfeature_names\u001b[0m\u001b[1;33m]\u001b[0m\u001b[1;33m.\u001b[0m\u001b[0mvalues\u001b[0m\u001b[1;33m,\u001b[0m\u001b[1;33m\u001b[0m\u001b[0m\n\u001b[0;32m     20\u001b[0m                                             \u001b[0malgorithm\u001b[0m\u001b[1;33m=\u001b[0m\u001b[0malgorithm\u001b[0m\u001b[1;33m,\u001b[0m \u001b[0malpha\u001b[0m\u001b[1;33m=\u001b[0m\u001b[0malpha\u001b[0m\u001b[1;33m,\u001b[0m \u001b[0mplot_importance\u001b[0m\u001b[1;33m=\u001b[0m\u001b[0mplot_importance\u001b[0m\u001b[1;33m,\u001b[0m\u001b[1;33m\u001b[0m\u001b[0m\n\u001b[1;32m---> 21\u001b[1;33m                                             feature_names=feature_names)\n\u001b[0m\u001b[0;32m     22\u001b[0m \u001b[1;33m\u001b[0m\u001b[0m\n\u001b[0;32m     23\u001b[0m             \u001b[0mprediction_matrix\u001b[0m \u001b[1;33m=\u001b[0m \u001b[0mnp\u001b[0m\u001b[1;33m.\u001b[0m\u001b[0mdelete\u001b[0m\u001b[1;33m(\u001b[0m\u001b[0mprediction_matrix\u001b[0m\u001b[1;33m,\u001b[0m \u001b[1;36m7\u001b[0m\u001b[1;33m,\u001b[0m \u001b[0maxis\u001b[0m\u001b[1;33m=\u001b[0m\u001b[1;36m1\u001b[0m\u001b[1;33m)\u001b[0m\u001b[1;33m\u001b[0m\u001b[0m\n",
      "\u001b[1;32m<ipython-input-127-a627d45b8096>\u001b[0m in \u001b[0;36mfit_predict\u001b[1;34m(train_array, train_labels, test_array, prior_probabilities, algorithm, alpha, plot_importance, feature_names)\u001b[0m\n\u001b[0;32m     43\u001b[0m         \u001b[1;32mif\u001b[0m \u001b[0malgorithm\u001b[0m \u001b[1;33m==\u001b[0m \u001b[1;34m'logit'\u001b[0m\u001b[1;33m:\u001b[0m\u001b[1;33m\u001b[0m\u001b[0m\n\u001b[0;32m     44\u001b[0m             \u001b[0mclf\u001b[0m \u001b[1;33m=\u001b[0m \u001b[0mLogisticRegressionCV\u001b[0m\u001b[1;33m(\u001b[0m\u001b[0mCs\u001b[0m\u001b[1;33m=\u001b[0m\u001b[1;36m5\u001b[0m\u001b[1;33m,\u001b[0m \u001b[0mn_jobs\u001b[0m\u001b[1;33m=\u001b[0m\u001b[1;33m-\u001b[0m\u001b[1;36m1\u001b[0m\u001b[1;33m)\u001b[0m\u001b[1;33m\u001b[0m\u001b[0m\n\u001b[1;32m---> 45\u001b[1;33m         \u001b[0mclf\u001b[0m\u001b[1;33m.\u001b[0m\u001b[0mfit\u001b[0m\u001b[1;33m(\u001b[0m\u001b[0mtrain_array\u001b[0m\u001b[1;33m,\u001b[0m \u001b[0mtrain_labels\u001b[0m\u001b[1;33m)\u001b[0m\u001b[1;33m\u001b[0m\u001b[0m\n\u001b[0m\u001b[0;32m     46\u001b[0m         \u001b[0mprint\u001b[0m\u001b[1;33m(\u001b[0m\u001b[0mclf\u001b[0m\u001b[1;33m.\u001b[0m\u001b[0mC_\u001b[0m\u001b[1;33m)\u001b[0m\u001b[1;33m\u001b[0m\u001b[0m\n\u001b[0;32m     47\u001b[0m         \u001b[0mprediction_matrix\u001b[0m \u001b[1;33m=\u001b[0m \u001b[0mclf\u001b[0m\u001b[1;33m.\u001b[0m\u001b[0mpredict_proba\u001b[0m\u001b[1;33m(\u001b[0m\u001b[0mtest_array\u001b[0m\u001b[1;33m)\u001b[0m\u001b[1;33m\u001b[0m\u001b[0m\n",
      "\u001b[1;32m/home/oem/anaconda3/lib/python3.4/site-packages/sklearn/linear_model/logistic.py\u001b[0m in \u001b[0;36mfit\u001b[1;34m(self, X, y, sample_weight)\u001b[0m\n\u001b[0;32m   1581\u001b[0m                       \u001b[0msample_weight\u001b[0m\u001b[1;33m=\u001b[0m\u001b[0msample_weight\u001b[0m\u001b[1;33m\u001b[0m\u001b[0m\n\u001b[0;32m   1582\u001b[0m                       )\n\u001b[1;32m-> 1583\u001b[1;33m             \u001b[1;32mfor\u001b[0m \u001b[0mlabel\u001b[0m \u001b[1;32min\u001b[0m \u001b[0miter_labels\u001b[0m\u001b[1;33m\u001b[0m\u001b[0m\n\u001b[0m\u001b[0;32m   1584\u001b[0m             for train, test in folds)\n\u001b[0;32m   1585\u001b[0m \u001b[1;33m\u001b[0m\u001b[0m\n",
      "\u001b[1;32m/home/oem/anaconda3/lib/python3.4/site-packages/sklearn/externals/joblib/parallel.py\u001b[0m in \u001b[0;36m__call__\u001b[1;34m(self, iterable)\u001b[0m\n\u001b[0;32m    810\u001b[0m                 \u001b[1;31m# consumption.\u001b[0m\u001b[1;33m\u001b[0m\u001b[1;33m\u001b[0m\u001b[0m\n\u001b[0;32m    811\u001b[0m                 \u001b[0mself\u001b[0m\u001b[1;33m.\u001b[0m\u001b[0m_iterating\u001b[0m \u001b[1;33m=\u001b[0m \u001b[1;32mFalse\u001b[0m\u001b[1;33m\u001b[0m\u001b[0m\n\u001b[1;32m--> 812\u001b[1;33m             \u001b[0mself\u001b[0m\u001b[1;33m.\u001b[0m\u001b[0mretrieve\u001b[0m\u001b[1;33m(\u001b[0m\u001b[1;33m)\u001b[0m\u001b[1;33m\u001b[0m\u001b[0m\n\u001b[0m\u001b[0;32m    813\u001b[0m             \u001b[1;31m# Make sure that we get a last message telling us we are done\u001b[0m\u001b[1;33m\u001b[0m\u001b[1;33m\u001b[0m\u001b[0m\n\u001b[0;32m    814\u001b[0m             \u001b[0melapsed_time\u001b[0m \u001b[1;33m=\u001b[0m \u001b[0mtime\u001b[0m\u001b[1;33m.\u001b[0m\u001b[0mtime\u001b[0m\u001b[1;33m(\u001b[0m\u001b[1;33m)\u001b[0m \u001b[1;33m-\u001b[0m \u001b[0mself\u001b[0m\u001b[1;33m.\u001b[0m\u001b[0m_start_time\u001b[0m\u001b[1;33m\u001b[0m\u001b[0m\n",
      "\u001b[1;32m/home/oem/anaconda3/lib/python3.4/site-packages/sklearn/externals/joblib/parallel.py\u001b[0m in \u001b[0;36mretrieve\u001b[1;34m(self)\u001b[0m\n\u001b[0;32m    760\u001b[0m                         \u001b[1;31m# a working pool as they expect.\u001b[0m\u001b[1;33m\u001b[0m\u001b[1;33m\u001b[0m\u001b[0m\n\u001b[0;32m    761\u001b[0m                         \u001b[0mself\u001b[0m\u001b[1;33m.\u001b[0m\u001b[0m_initialize_pool\u001b[0m\u001b[1;33m(\u001b[0m\u001b[1;33m)\u001b[0m\u001b[1;33m\u001b[0m\u001b[0m\n\u001b[1;32m--> 762\u001b[1;33m                 \u001b[1;32mraise\u001b[0m \u001b[0mexception\u001b[0m\u001b[1;33m\u001b[0m\u001b[0m\n\u001b[0m\u001b[0;32m    763\u001b[0m \u001b[1;33m\u001b[0m\u001b[0m\n\u001b[0;32m    764\u001b[0m     \u001b[1;32mdef\u001b[0m \u001b[0m__call__\u001b[0m\u001b[1;33m(\u001b[0m\u001b[0mself\u001b[0m\u001b[1;33m,\u001b[0m \u001b[0miterable\u001b[0m\u001b[1;33m)\u001b[0m\u001b[1;33m:\u001b[0m\u001b[1;33m\u001b[0m\u001b[0m\n",
      "\u001b[1;32m/home/oem/anaconda3/lib/python3.4/site-packages/sklearn/externals/joblib/parallel.py\u001b[0m in \u001b[0;36mretrieve\u001b[1;34m(self)\u001b[0m\n\u001b[0;32m    729\u001b[0m                 \u001b[0mjob\u001b[0m \u001b[1;33m=\u001b[0m \u001b[0mself\u001b[0m\u001b[1;33m.\u001b[0m\u001b[0m_jobs\u001b[0m\u001b[1;33m.\u001b[0m\u001b[0mpop\u001b[0m\u001b[1;33m(\u001b[0m\u001b[1;36m0\u001b[0m\u001b[1;33m)\u001b[0m\u001b[1;33m\u001b[0m\u001b[0m\n\u001b[0;32m    730\u001b[0m             \u001b[1;32mtry\u001b[0m\u001b[1;33m:\u001b[0m\u001b[1;33m\u001b[0m\u001b[0m\n\u001b[1;32m--> 731\u001b[1;33m                 \u001b[0mself\u001b[0m\u001b[1;33m.\u001b[0m\u001b[0m_output\u001b[0m\u001b[1;33m.\u001b[0m\u001b[0mextend\u001b[0m\u001b[1;33m(\u001b[0m\u001b[0mjob\u001b[0m\u001b[1;33m.\u001b[0m\u001b[0mget\u001b[0m\u001b[1;33m(\u001b[0m\u001b[1;33m)\u001b[0m\u001b[1;33m)\u001b[0m\u001b[1;33m\u001b[0m\u001b[0m\n\u001b[0m\u001b[0;32m    732\u001b[0m             \u001b[1;32mexcept\u001b[0m \u001b[0mtuple\u001b[0m\u001b[1;33m(\u001b[0m\u001b[0mself\u001b[0m\u001b[1;33m.\u001b[0m\u001b[0mexceptions\u001b[0m\u001b[1;33m)\u001b[0m \u001b[1;32mas\u001b[0m \u001b[0mexception\u001b[0m\u001b[1;33m:\u001b[0m\u001b[1;33m\u001b[0m\u001b[0m\n\u001b[0;32m    733\u001b[0m                 \u001b[1;31m# Stop dispatching any new job in the async callback thread\u001b[0m\u001b[1;33m\u001b[0m\u001b[1;33m\u001b[0m\u001b[0m\n",
      "\u001b[1;32m/home/oem/anaconda3/lib/python3.4/multiprocessing/pool.py\u001b[0m in \u001b[0;36mget\u001b[1;34m(self, timeout)\u001b[0m\n\u001b[0;32m    591\u001b[0m \u001b[1;33m\u001b[0m\u001b[0m\n\u001b[0;32m    592\u001b[0m     \u001b[1;32mdef\u001b[0m \u001b[0mget\u001b[0m\u001b[1;33m(\u001b[0m\u001b[0mself\u001b[0m\u001b[1;33m,\u001b[0m \u001b[0mtimeout\u001b[0m\u001b[1;33m=\u001b[0m\u001b[1;32mNone\u001b[0m\u001b[1;33m)\u001b[0m\u001b[1;33m:\u001b[0m\u001b[1;33m\u001b[0m\u001b[0m\n\u001b[1;32m--> 593\u001b[1;33m         \u001b[0mself\u001b[0m\u001b[1;33m.\u001b[0m\u001b[0mwait\u001b[0m\u001b[1;33m(\u001b[0m\u001b[0mtimeout\u001b[0m\u001b[1;33m)\u001b[0m\u001b[1;33m\u001b[0m\u001b[0m\n\u001b[0m\u001b[0;32m    594\u001b[0m         \u001b[1;32mif\u001b[0m \u001b[1;32mnot\u001b[0m \u001b[0mself\u001b[0m\u001b[1;33m.\u001b[0m\u001b[0mready\u001b[0m\u001b[1;33m(\u001b[0m\u001b[1;33m)\u001b[0m\u001b[1;33m:\u001b[0m\u001b[1;33m\u001b[0m\u001b[0m\n\u001b[0;32m    595\u001b[0m             \u001b[1;32mraise\u001b[0m \u001b[0mTimeoutError\u001b[0m\u001b[1;33m\u001b[0m\u001b[0m\n",
      "\u001b[1;32m/home/oem/anaconda3/lib/python3.4/multiprocessing/pool.py\u001b[0m in \u001b[0;36mwait\u001b[1;34m(self, timeout)\u001b[0m\n\u001b[0;32m    588\u001b[0m \u001b[1;33m\u001b[0m\u001b[0m\n\u001b[0;32m    589\u001b[0m     \u001b[1;32mdef\u001b[0m \u001b[0mwait\u001b[0m\u001b[1;33m(\u001b[0m\u001b[0mself\u001b[0m\u001b[1;33m,\u001b[0m \u001b[0mtimeout\u001b[0m\u001b[1;33m=\u001b[0m\u001b[1;32mNone\u001b[0m\u001b[1;33m)\u001b[0m\u001b[1;33m:\u001b[0m\u001b[1;33m\u001b[0m\u001b[0m\n\u001b[1;32m--> 590\u001b[1;33m         \u001b[0mself\u001b[0m\u001b[1;33m.\u001b[0m\u001b[0m_event\u001b[0m\u001b[1;33m.\u001b[0m\u001b[0mwait\u001b[0m\u001b[1;33m(\u001b[0m\u001b[0mtimeout\u001b[0m\u001b[1;33m)\u001b[0m\u001b[1;33m\u001b[0m\u001b[0m\n\u001b[0m\u001b[0;32m    591\u001b[0m \u001b[1;33m\u001b[0m\u001b[0m\n\u001b[0;32m    592\u001b[0m     \u001b[1;32mdef\u001b[0m \u001b[0mget\u001b[0m\u001b[1;33m(\u001b[0m\u001b[0mself\u001b[0m\u001b[1;33m,\u001b[0m \u001b[0mtimeout\u001b[0m\u001b[1;33m=\u001b[0m\u001b[1;32mNone\u001b[0m\u001b[1;33m)\u001b[0m\u001b[1;33m:\u001b[0m\u001b[1;33m\u001b[0m\u001b[0m\n",
      "\u001b[1;32m/home/oem/anaconda3/lib/python3.4/threading.py\u001b[0m in \u001b[0;36mwait\u001b[1;34m(self, timeout)\u001b[0m\n\u001b[0;32m    551\u001b[0m             \u001b[0msignaled\u001b[0m \u001b[1;33m=\u001b[0m \u001b[0mself\u001b[0m\u001b[1;33m.\u001b[0m\u001b[0m_flag\u001b[0m\u001b[1;33m\u001b[0m\u001b[0m\n\u001b[0;32m    552\u001b[0m             \u001b[1;32mif\u001b[0m \u001b[1;32mnot\u001b[0m \u001b[0msignaled\u001b[0m\u001b[1;33m:\u001b[0m\u001b[1;33m\u001b[0m\u001b[0m\n\u001b[1;32m--> 553\u001b[1;33m                 \u001b[0msignaled\u001b[0m \u001b[1;33m=\u001b[0m \u001b[0mself\u001b[0m\u001b[1;33m.\u001b[0m\u001b[0m_cond\u001b[0m\u001b[1;33m.\u001b[0m\u001b[0mwait\u001b[0m\u001b[1;33m(\u001b[0m\u001b[0mtimeout\u001b[0m\u001b[1;33m)\u001b[0m\u001b[1;33m\u001b[0m\u001b[0m\n\u001b[0m\u001b[0;32m    554\u001b[0m             \u001b[1;32mreturn\u001b[0m \u001b[0msignaled\u001b[0m\u001b[1;33m\u001b[0m\u001b[0m\n\u001b[0;32m    555\u001b[0m         \u001b[1;32mfinally\u001b[0m\u001b[1;33m:\u001b[0m\u001b[1;33m\u001b[0m\u001b[0m\n",
      "\u001b[1;32m/home/oem/anaconda3/lib/python3.4/threading.py\u001b[0m in \u001b[0;36mwait\u001b[1;34m(self, timeout)\u001b[0m\n\u001b[0;32m    288\u001b[0m         \u001b[1;32mtry\u001b[0m\u001b[1;33m:\u001b[0m    \u001b[1;31m# restore state no matter what (e.g., KeyboardInterrupt)\u001b[0m\u001b[1;33m\u001b[0m\u001b[0m\n\u001b[0;32m    289\u001b[0m             \u001b[1;32mif\u001b[0m \u001b[0mtimeout\u001b[0m \u001b[1;32mis\u001b[0m \u001b[1;32mNone\u001b[0m\u001b[1;33m:\u001b[0m\u001b[1;33m\u001b[0m\u001b[0m\n\u001b[1;32m--> 290\u001b[1;33m                 \u001b[0mwaiter\u001b[0m\u001b[1;33m.\u001b[0m\u001b[0macquire\u001b[0m\u001b[1;33m(\u001b[0m\u001b[1;33m)\u001b[0m\u001b[1;33m\u001b[0m\u001b[0m\n\u001b[0m\u001b[0;32m    291\u001b[0m                 \u001b[0mgotit\u001b[0m \u001b[1;33m=\u001b[0m \u001b[1;32mTrue\u001b[0m\u001b[1;33m\u001b[0m\u001b[0m\n\u001b[0;32m    292\u001b[0m             \u001b[1;32melse\u001b[0m\u001b[1;33m:\u001b[0m\u001b[1;33m\u001b[0m\u001b[0m\n",
      "\u001b[1;31mKeyboardInterrupt\u001b[0m: "
     ]
    }
   ],
   "source": [
    "algorithms = ['rf', 'xgb', 'logit']\n",
    "algorithm = 'logit'\n",
    "\n",
    "validation = True\n",
    "\n",
    "if validation:\n",
    "    \n",
    "    compute_optimal = False\n",
    "    if compute_optimal:\n",
    "        grid_space = np.arange(25, 36, 5)\n",
    "        alphas, scores, min_alpha, min_score = train_and_score(train_dummies, grid_space=grid_space,\n",
    "                                                               algorithm=algorithm, plot_importance=False)\n",
    "        print('MIN ALPHA =', min_alpha, 'MIN_MLOGLOSS =', min_score)\n",
    "        pl.plot(alphas, scores, 'r.--')\n",
    "    else:\n",
    "        mlogloss = train_and_score(train_dummies, algorithm=algorithm)\n",
    "    \n",
    "elif not validation:\n",
    "#     prior_probabilities = get_prior_probabilities(train)\n",
    "    prediction_matrix = fit_predict(train_dummies[[col for col in train_dummies.columns \n",
    "                                                   if col not in ['TripType']]].values, \n",
    "                                    train_dummies.TripType.values, test_dummies.values, algorithm=algorithm)\n",
    "    \n",
    "    prediction_df = pd.DataFrame(prediction_matrix, columns=['TripType_' + str(i) for i in types])\n",
    "    prediction_df['VisitNumber'] = test_dummies.VisitNumber.values\n",
    "    \n",
    "    prediction_df = prediction_df[['VisitNumber'] + [x for x in prediction_df.columns if x != 'VisitNumber']]\n",
    "    del prediction_matrix\n",
    "    \n",
    "    filename = 'prediction.csv'\n",
    "    prediction_df.to_csv(filename, index=False)\n",
    "    print(filename, 'was created')\n",
    "    del prediction_df\n",
    "    "
   ]
  },
  {
   "cell_type": "markdown",
   "metadata": {},
   "source": [
    "0 (feature 23): NumberOfPurchased Value = 0.07318\n",
    " 1 (feature 30): SumScanCountUMrFreq Value = 0.04361\n",
    " 2 (feature  3): DifferentUpcProductFreq Value = 0.04056\n",
    " 3 (feature 16): MeanScanCount Value = 0.03946\n",
    " 4 (feature 29): SumScanCountFlNFreq Value = 0.03854\n",
    " 5 (feature 22): ModeUpcProductFreq Value = 0.03372\n",
    " 6 (feature 15): MeanFlNnUptnUMr Value = 0.03194\n",
    " 7 (feature 31): SumScanCountUPtFreq Value = 0.03121\n",
    " 8 (feature 21): ModeUpcManufacturerFreq Value = 0.02838\n",
    " 9 (feature  0): DifferentFinelineNumberFreq Value = 0.02707\n",
    "10 (feature 20): ModeFinelineNumberFreq Value = 0.02549\n",
    "11 (feature  1): DifferentUpcManufacturerFreq Value = 0.02464\n",
    "12 (feature 18): MeanUpcProductFreq Value = 0.02428\n",
    "13 (feature 62): DepartmentDescription_FINANCIAL SERVICES Value = 0.02417\n",
    "14 (feature 33): SumUpcProductFreq Value = 0.02361\n",
    "15 (feature  6): MaxFlNnUptnUMr Value = 0.02249\n",
    "16 (feature 32): SumUpcManufacturerFreq Value = 0.02225\n",
    "17 (feature 14): MeanFinelineNumberFreq Value = 0.02182\n",
    "18 (feature 17): MeanUpcManufacturerFreq Value = 0.02046\n",
    "19 (feature 28): SumFinelineNumberFreq Value = 0.01856\n",
    "20 (feature 94): DepartmentDescription_PHARMACY OTC Value = 0.01820\n",
    "21 (feature 13): MaxUpcProductFreq Value = 0.01800\n",
    "22 (feature 26): StdUpcManufacturerFreq Value = 0.01743\n",
    "23 (feature 11): MaxScanCountUPtFreq Value = 0.01697\n",
    "24 (feature 27): StdUpcProductFreq Value = 0.01677\n",
    "25 (feature 25): StdFlNnUptnUMr Value = 0.01658\n",
    "26 (feature 10): MaxScanCountUMrFreq Value = 0.01656\n",
    "27 (feature 24): StdFinelineNumberFreq Value = 0.01516\n",
    "28 (feature  9): MaxScanCountFlNFreq Value = 0.01503\n",
    "29 (feature 34): VisitNumber Value = 0.01492\n",
    "30 (feature 111): ModeUpcPrefix_0 Value = 0.01406\n",
    "31 (feature  5): MaxFinelineNumberFreq Value = 0.01320\n",
    "32 (feature 12): MaxUpcManufacturerFreq Value = 0.01239\n",
    "33 (feature 92): DepartmentDescription_PERSONAL CARE Value = 0.01078\n",
    "34 (feature 114): ModeUpcPrefix_6 Value = 0.01006\n",
    "35 (feature  2): DifferentUpcPrefix Value = 0.00942\n",
    "36 (feature 95): DepartmentDescription_PHARMACY RX Value = 0.00925\n",
    "37 (feature 76): DepartmentDescription_INFANT CONSUMABLE HARDLINES Value = 0.00803\n",
    "38 (feature  4): LogNumberOfReturned Value = 0.00644"
   ]
  }
 ],
 "metadata": {
  "kernelspec": {
   "display_name": "Python 3",
   "language": "python",
   "name": "python3"
  },
  "language_info": {
   "codemirror_mode": {
    "name": "ipython",
    "version": 3
   },
   "file_extension": ".py",
   "mimetype": "text/x-python",
   "name": "python",
   "nbconvert_exporter": "python",
   "pygments_lexer": "ipython3",
   "version": "3.4.3"
  }
 },
 "nbformat": 4,
 "nbformat_minor": 0
}
