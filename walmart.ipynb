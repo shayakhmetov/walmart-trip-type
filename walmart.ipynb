{
 "cells": [
  {
   "cell_type": "code",
   "execution_count": 1,
   "metadata": {
    "collapsed": false
   },
   "outputs": [],
   "source": [
    "import pandas as pd\n",
    "import seaborn as sns\n",
    "import numpy as np\n",
    "import pylab as pl\n",
    "import sklearn.cross_validation, sklearn.metrics\n",
    "from sklearn.ensemble import RandomForestClassifier\n",
    "from sklearn.linear_model import LogisticRegression, LogisticRegressionCV\n",
    "from sklearn.feature_extraction import DictVectorizer, FeatureHasher\n",
    "import scipy.stats\n",
    "import xgboost as xgb\n",
    "\n",
    "%matplotlib inline\n",
    "pd.set_option('display.mpl_style', 'default')\n",
    "pl.rcParams['figure.figsize'] = (20, 10)\n",
    "\n",
    "train = pd.read_csv('train.csv', low_memory=False)\n",
    "test = pd.read_csv('test.csv', low_memory=False)\n",
    "types = np.unique(train.TripType.values)\n",
    "types_dictionary = {t: i for i, t in  enumerate(types)}"
   ]
  },
  {
   "cell_type": "code",
   "execution_count": 2,
   "metadata": {
    "collapsed": false
   },
   "outputs": [],
   "source": [
    "train = train[~pd.isnull(train.Upc)]\n",
    "train = train[~pd.isnull(train.FinelineNumber)]\n",
    "test = test[~pd.isnull(test.Upc)]\n",
    "test = test[~pd.isnull(test.FinelineNumber)]\n"
   ]
  },
  {
   "cell_type": "code",
   "execution_count": 3,
   "metadata": {
    "collapsed": false
   },
   "outputs": [],
   "source": [
    "def at(l):\n",
    "    return l.iloc[0]\n",
    "def mklist(l):\n",
    "    return list(l)\n",
    "\n",
    "train = train.groupby('VisitNumber').agg({'TripType': at, 'Weekday': at, 'ScanCount': mklist, \n",
    "                                          'DepartmentDescription': at, 'FinelineNumber': mklist, \n",
    "                                          'Upc': mklist}).reset_index()\n",
    "test = test.groupby('VisitNumber').agg({'Weekday': at, 'ScanCount': mklist, 'DepartmentDescription': at,\n",
    "                                        'FinelineNumber': mklist, 'Upc': mklist}).reset_index()\n"
   ]
  },
  {
   "cell_type": "code",
   "execution_count": 4,
   "metadata": {
    "collapsed": false
   },
   "outputs": [],
   "source": [
    "def construct_features(data):\n",
    "    data.Upc = data.Upc.map(lambda x: np.array(x, dtype=int))\n",
    "    data.FinelineNumber = data.FinelineNumber.map(lambda x: np.array(x, dtype=int))\n",
    "    \n",
    "#     data['NumberOfReturned'] = data.ScanCount.map(lambda x: -sum([a for a in x if a < 0]))\n",
    "    data['LogNumberOfReturned'] = data.ScanCount.map(lambda x: np.log(-sum([a for a in x if a < 0]) + 1))\n",
    "    data['NumberOfPurchased'] = data.ScanCount.map(lambda x: sum([a for a in x if a > 0]))\n",
    "    data['ModeScanCount'] = data.ScanCount.map(lambda x: scipy.stats.mode(x)[0][0])\n",
    "    data['ModeUpc'] = data.Upc.map(lambda x: scipy.stats.mode(x)[0][0])\n",
    "    data['ModeFinelineNumber'] = data.FinelineNumber.map(lambda x: scipy.stats.mode(x)[0][0])\n",
    "    \n",
    "    for i in range(0, 11):\n",
    "        train['Upc_' + str(i)] = train.Upc.map(lambda x: scipy.stats.mode([a // 10**i % 10 for a in x])[0][0])\n",
    "    return data"
   ]
  },
  {
   "cell_type": "code",
   "execution_count": 5,
   "metadata": {
    "collapsed": false
   },
   "outputs": [],
   "source": [
    "train = construct_features(train)\n",
    "test = construct_features(test)"
   ]
  },
  {
   "cell_type": "code",
   "execution_count": 16,
   "metadata": {
    "collapsed": false
   },
   "outputs": [
    {
     "data": {
      "text/html": [
       "<div>\n",
       "<table border=\"1\" class=\"dataframe\">\n",
       "  <thead>\n",
       "    <tr style=\"text-align: right;\">\n",
       "      <th></th>\n",
       "      <th>TripType</th>\n",
       "      <th>Upc</th>\n",
       "      <th>FinelineNumber</th>\n",
       "      <th>ScanCount</th>\n",
       "      <th>LogNumberOfReturned</th>\n",
       "      <th>NumberOfPurchased</th>\n",
       "    </tr>\n",
       "  </thead>\n",
       "  <tbody>\n",
       "    <tr>\n",
       "      <th>58</th>\n",
       "      <td>5</td>\n",
       "      <td>[63748004256, 63748006502, 68113118730]</td>\n",
       "      <td>[309, 312, 2561]</td>\n",
       "      <td>[2, 1, 1]</td>\n",
       "      <td>0</td>\n",
       "      <td>4</td>\n",
       "    </tr>\n",
       "    <tr>\n",
       "      <th>103</th>\n",
       "      <td>5</td>\n",
       "      <td>[68113129801]</td>\n",
       "      <td>[2303]</td>\n",
       "      <td>[1]</td>\n",
       "      <td>0</td>\n",
       "      <td>1</td>\n",
       "    </tr>\n",
       "    <tr>\n",
       "      <th>139</th>\n",
       "      <td>5</td>\n",
       "      <td>[38137116146, 3800059099, 3800059099, 61126913...</td>\n",
       "      <td>[3524, 5, 5, 3467, 3533, 4080]</td>\n",
       "      <td>[1, 1, 1, 1, 1, 1]</td>\n",
       "      <td>0</td>\n",
       "      <td>6</td>\n",
       "    </tr>\n",
       "    <tr>\n",
       "      <th>194</th>\n",
       "      <td>5</td>\n",
       "      <td>[85303000202, 3927822010]</td>\n",
       "      <td>[4079, 2041]</td>\n",
       "      <td>[1, 1]</td>\n",
       "      <td>0</td>\n",
       "      <td>2</td>\n",
       "    </tr>\n",
       "    <tr>\n",
       "      <th>216</th>\n",
       "      <td>5</td>\n",
       "      <td>[68113111122]</td>\n",
       "      <td>[905]</td>\n",
       "      <td>[1]</td>\n",
       "      <td>0</td>\n",
       "      <td>1</td>\n",
       "    </tr>\n",
       "    <tr>\n",
       "      <th>228</th>\n",
       "      <td>5</td>\n",
       "      <td>[83913800253]</td>\n",
       "      <td>[509]</td>\n",
       "      <td>[2]</td>\n",
       "      <td>0</td>\n",
       "      <td>2</td>\n",
       "    </tr>\n",
       "    <tr>\n",
       "      <th>236</th>\n",
       "      <td>5</td>\n",
       "      <td>[68113111128, 7007440701, 2430078106, 3400013410]</td>\n",
       "      <td>[701, 401, 2286, 125]</td>\n",
       "      <td>[1, 1, 1, 1]</td>\n",
       "      <td>0</td>\n",
       "      <td>4</td>\n",
       "    </tr>\n",
       "    <tr>\n",
       "      <th>317</th>\n",
       "      <td>5</td>\n",
       "      <td>[4000047652, 7874206317, 68113173156, 63347200...</td>\n",
       "      <td>[115, 4602, 4602, 4601, 509, 1411]</td>\n",
       "      <td>[2, 1, 1, 1, 1, 1]</td>\n",
       "      <td>0</td>\n",
       "      <td>7</td>\n",
       "    </tr>\n",
       "    <tr>\n",
       "      <th>338</th>\n",
       "      <td>5</td>\n",
       "      <td>[30169183402, 30169183302, 30149003916]</td>\n",
       "      <td>[4822, 4822, 2104]</td>\n",
       "      <td>[1, 1, 1]</td>\n",
       "      <td>0</td>\n",
       "      <td>3</td>\n",
       "    </tr>\n",
       "    <tr>\n",
       "      <th>342</th>\n",
       "      <td>5</td>\n",
       "      <td>[7146434851, 85651600203, 68113106267, 7803537...</td>\n",
       "      <td>[7131, 7129, 403, 3601, 5701, 103]</td>\n",
       "      <td>[1, 1, 1, 1, 1, 1]</td>\n",
       "      <td>0</td>\n",
       "      <td>6</td>\n",
       "    </tr>\n",
       "  </tbody>\n",
       "</table>\n",
       "</div>"
      ],
      "text/plain": [
       "     TripType                                                Upc  \\\n",
       "58          5            [63748004256, 63748006502, 68113118730]   \n",
       "103         5                                      [68113129801]   \n",
       "139         5  [38137116146, 3800059099, 3800059099, 61126913...   \n",
       "194         5                          [85303000202, 3927822010]   \n",
       "216         5                                      [68113111122]   \n",
       "228         5                                      [83913800253]   \n",
       "236         5  [68113111128, 7007440701, 2430078106, 3400013410]   \n",
       "317         5  [4000047652, 7874206317, 68113173156, 63347200...   \n",
       "338         5            [30169183402, 30169183302, 30149003916]   \n",
       "342         5  [7146434851, 85651600203, 68113106267, 7803537...   \n",
       "\n",
       "                         FinelineNumber           ScanCount  \\\n",
       "58                     [309, 312, 2561]           [2, 1, 1]   \n",
       "103                              [2303]                 [1]   \n",
       "139      [3524, 5, 5, 3467, 3533, 4080]  [1, 1, 1, 1, 1, 1]   \n",
       "194                        [4079, 2041]              [1, 1]   \n",
       "216                               [905]                 [1]   \n",
       "228                               [509]                 [2]   \n",
       "236               [701, 401, 2286, 125]        [1, 1, 1, 1]   \n",
       "317  [115, 4602, 4602, 4601, 509, 1411]  [2, 1, 1, 1, 1, 1]   \n",
       "338                  [4822, 4822, 2104]           [1, 1, 1]   \n",
       "342  [7131, 7129, 403, 3601, 5701, 103]  [1, 1, 1, 1, 1, 1]   \n",
       "\n",
       "     LogNumberOfReturned  NumberOfPurchased  \n",
       "58                     0                  4  \n",
       "103                    0                  1  \n",
       "139                    0                  6  \n",
       "194                    0                  2  \n",
       "216                    0                  1  \n",
       "228                    0                  2  \n",
       "236                    0                  4  \n",
       "317                    0                  7  \n",
       "338                    0                  3  \n",
       "342                    0                  6  "
      ]
     },
     "execution_count": 16,
     "metadata": {},
     "output_type": "execute_result"
    }
   ],
   "source": [
    "train.ix[train.TripType == 5, ['TripType', 'Upc', 'FinelineNumber', 'ScanCount', \n",
    "                               'LogNumberOfReturned', 'NumberOfPurchased']].iloc[:10]"
   ]
  },
  {
   "cell_type": "code",
   "execution_count": 15,
   "metadata": {
    "collapsed": false,
    "scrolled": true
   },
   "outputs": [],
   "source": [
    "# sns.boxplot('TripType', 'NumberOfPurchased', data=train)\n"
   ]
  },
  {
   "cell_type": "code",
   "execution_count": 8,
   "metadata": {
    "collapsed": true
   },
   "outputs": [],
   "source": [
    "def get_prior_probabilities(data):\n",
    "    prior_probabilities = np.zeros(len(types))\n",
    "    prior_probabilities += np.array([len(data[data.TripType == trip_type]) for trip_type in types])\n",
    "    prior_probabilities /= prior_probabilities.sum()\n",
    "    return prior_probabilities"
   ]
  },
  {
   "cell_type": "code",
   "execution_count": 9,
   "metadata": {
    "collapsed": true
   },
   "outputs": [],
   "source": [
    "def construct_dummy_features(data, dummy_columns):\n",
    "    data = pd.get_dummies(data, sparse=True, dummy_na=False, columns=dummy_columns)\n",
    "    return data"
   ]
  },
  {
   "cell_type": "code",
   "execution_count": 10,
   "metadata": {
    "collapsed": false
   },
   "outputs": [
    {
     "name": "stdout",
     "output_type": "stream",
     "text": [
      "92 features constructed\n"
     ]
    }
   ],
   "source": [
    "data = train.append(test)\n",
    "data = data[[col for col in data.columns if col not in ['Upc', 'ScanCount', 'FinelineNumber']]]\n",
    "data = construct_dummy_features(data, ['Weekday', 'DepartmentDescription'])\n",
    "train_dummies = data.iloc[:len(train)]\n",
    "test_dummies = data.iloc[len(train):]\n",
    "del data, test_dummies['TripType']\n",
    "print(len(test_dummies.columns), 'features constructed')"
   ]
  },
  {
   "cell_type": "code",
   "execution_count": 11,
   "metadata": {
    "collapsed": false
   },
   "outputs": [
    {
     "name": "stdout",
     "output_type": "stream",
     "text": [
      "Memory usage of dataframe train_dummies is 15.10 Mb\n",
      "Memory usage of dataframe test_dummies is 14.39 Mb\n"
     ]
    }
   ],
   "source": [
    "print('Memory usage of dataframe train_dummies is %3.2f Mb' % (train_dummies.memory_usage(index=True).sum()/(1024*1024)))\n",
    "print('Memory usage of dataframe test_dummies is %3.2f Mb' % (test_dummies.memory_usage(index=True).sum()/(1024*1024)))"
   ]
  },
  {
   "cell_type": "code",
   "execution_count": 12,
   "metadata": {
    "collapsed": false
   },
   "outputs": [],
   "source": [
    "def fit_predict(train_array, train_labels, test_array, prior_probabilities=None, algorithm='rf', alpha=None, \n",
    "                plot_importance=True, feature_names=None):\n",
    "    if algorithm == 'xgb':\n",
    "        train_labels = np.array([types_dictionary[x] for x in train_labels])\n",
    "        dtrain = xgb.DMatrix(train_array, train_labels)\n",
    "        \n",
    "        dtest = xgb.DMatrix(test_array)\n",
    "        param = {\n",
    "            'bst:eta':0.4, 'bst:max_depth':8, 'bst:colsample_bytree': 0.45, 'objective': 'multi:softprob',\n",
    "            'eval_metric':'mlogloss', 'num_class':len(types) \n",
    "        }\n",
    "        n_round = 40\n",
    "        bst = xgb.train(param, dtrain, n_round)\n",
    "        prediction_matrix = bst.predict(dtest)\n",
    "        if plot_importance:\n",
    "            xgb.plot_importance(bst)\n",
    "    else:\n",
    "        if algorithm == 'rf':\n",
    "            clf = RandomForestClassifier(n_estimators=100, max_depth=20, min_samples_leaf=1, max_features=0.2, n_jobs=-1)\n",
    "        clf.fit(train_array, train_labels)\n",
    "        prediction_matrix = clf.predict_proba(test_array)\n",
    "        if plot_importance and feature_names:\n",
    "            importances = clf.feature_importances_\n",
    "            std = np.std([tree.feature_importances_ for tree in clf.estimators_], axis=0)\n",
    "            pl.title('Feature Importance')\n",
    "            sorted_indices = np.argsort(importances)[::-1]\n",
    "            for i, k in enumerate(sorted_indices):\n",
    "                print('%2d (feature %2d):' % (i, k), feature_names[k], 'Value = %.5f' % importances[k])\n",
    "#             print([feature_names[k] for k in sorted_indices])\n",
    "\n",
    "            pl.bar(range(len(feature_names)), importances[sorted_indices], color='r',\n",
    "                   yerr=std[sorted_indices], align='center')\n",
    "            pl.xticks(range(len(feature_names)), sorted_indices)\n",
    "            pl.xlim([-1, len(feature_names) + 1])\n",
    "            \n",
    "    if not prior_probabilities is None:\n",
    "        coeff = 0.1\n",
    "        prediction_matrix = (prediction_matrix + [prior_probabilities*coeff]*len(prediction_matrix))/(1. + coeff)\n",
    "    return prediction_matrix"
   ]
  },
  {
   "cell_type": "code",
   "execution_count": 13,
   "metadata": {
    "collapsed": true
   },
   "outputs": [],
   "source": [
    "def train_and_score(train_dummies, grid_space=[0], algorithm='rf', plot_importance=True):\n",
    "    if len(grid_space) > 1:\n",
    "        alphas, scores = [], []\n",
    "        min_alpha, min_score = 1., 10**5\n",
    "    \n",
    "    for alpha in grid_space:\n",
    "        if len(grid_space) > 1:\n",
    "            print('alpha =', alpha)\n",
    "        y = train_dummies.TripType.values\n",
    "        for train_indices, test_indices in sklearn.cross_validation.StratifiedShuffleSplit(y, n_iter=1, test_size=0.1):\n",
    "            data_train = train_dummies.iloc[train_indices]\n",
    "            data_test = train_dummies.iloc[test_indices]\n",
    "\n",
    "    #         prior_probabilities = get_prior_probabilities(data_train)\n",
    "            feature_names = [col for col in data_train.columns if col not in ['TripType', 'VisitNumber']]\n",
    "            prediction_matrix = fit_predict(data_train[feature_names].values, \n",
    "                                            data_train.TripType.values, \n",
    "                                            data_test[[col for col in data_test.columns \n",
    "                                                       if col not in ['TripType', 'VisitNumber']]].values, \n",
    "                                            algorithm=algorithm, alpha=alpha, plot_importance=plot_importance, \n",
    "                                            feature_names=feature_names)\n",
    "\n",
    "            prediction_matrix = np.delete(prediction_matrix, 7, axis=1)\n",
    "\n",
    "            y_true = data_test.TripType.values\n",
    "\n",
    "            mlogloss = sklearn.metrics.log_loss(y_true, prediction_matrix) \n",
    "            print('mlogloss =', mlogloss, end='\\n\\n')\n",
    "            \n",
    "            if len(grid_space) > 1:\n",
    "                alphas.append(alpha)\n",
    "                scores.append(mlogloss)\n",
    "                if mlogloss <= min_score:\n",
    "                    min_score = mlogloss\n",
    "                    min_alpha = alpha\n",
    "    if len(grid_space) > 1:\n",
    "        return alphas, scores, min_alpha, min_score\n",
    "    else:\n",
    "        return mlogloss"
   ]
  },
  {
   "cell_type": "markdown",
   "metadata": {},
   "source": [
    "##MAIN"
   ]
  },
  {
   "cell_type": "code",
   "execution_count": 17,
   "metadata": {
    "collapsed": false,
    "scrolled": true
   },
   "outputs": [
    {
     "name": "stdout",
     "output_type": "stream",
     "text": [
      " 0 (feature  4): NumberOfPurchased Value = 0.21607\n",
      " 1 (feature  3): ModeUpc Value = 0.07446\n",
      " 2 (feature  2): ModeScanCount Value = 0.07302\n",
      " 3 (feature  1): ModeFinelineNumber Value = 0.06975\n",
      " 4 (feature 15): Upc_9 Value = 0.03365\n",
      " 5 (feature 11): Upc_5 Value = 0.03278\n",
      " 6 (feature  0): LogNumberOfReturned Value = 0.03081\n",
      " 7 (feature 14): Upc_8 Value = 0.02872\n",
      " 8 (feature  9): Upc_3 Value = 0.02591\n",
      " 9 (feature  5): Upc_0 Value = 0.02558\n",
      "10 (feature  8): Upc_2 Value = 0.02556\n",
      "11 (feature 43): DepartmentDescription_FINANCIAL SERVICES Value = 0.02528\n",
      "12 (feature 12): Upc_6 Value = 0.02524\n",
      "13 (feature  6): Upc_1 Value = 0.02523\n",
      "14 (feature  7): Upc_10 Value = 0.02401\n",
      "15 (feature 13): Upc_7 Value = 0.02347\n",
      "16 (feature 75): DepartmentDescription_PHARMACY OTC Value = 0.02173\n",
      "17 (feature 10): Upc_4 Value = 0.02106\n",
      "18 (feature 83): DepartmentDescription_SERVICE DELI Value = 0.01477\n",
      "19 (feature 40): DepartmentDescription_DSD GROCERY Value = 0.01252\n",
      "20 (feature 73): DepartmentDescription_PERSONAL CARE Value = 0.01251\n",
      "21 (feature 57): DepartmentDescription_INFANT CONSUMABLE HARDLINES Value = 0.01111\n",
      "22 (feature 39): DepartmentDescription_DAIRY Value = 0.00655\n",
      "23 (feature 66): DepartmentDescription_MENS WEAR Value = 0.00633\n",
      "24 (feature 47): DepartmentDescription_GROCERY DRY GOODS Value = 0.00619\n",
      "25 (feature 80): DepartmentDescription_PRODUCE Value = 0.00594\n",
      "26 (feature 19): Weekday_Sunday Value = 0.00579\n",
      "27 (feature 18): Weekday_Saturday Value = 0.00574\n",
      "28 (feature 63): DepartmentDescription_LIQUOR,WINE,BEER Value = 0.00566\n",
      "29 (feature 28): DepartmentDescription_BEAUTY Value = 0.00564\n",
      "30 (feature 16): Weekday_Friday Value = 0.00543\n",
      "31 (feature 17): Weekday_Monday Value = 0.00520\n",
      "32 (feature 22): Weekday_Wednesday Value = 0.00477\n",
      "33 (feature 21): Weekday_Tuesday Value = 0.00472\n",
      "34 (feature 20): Weekday_Thursday Value = 0.00467\n",
      "35 (feature 55): DepartmentDescription_IMPULSE MERCHANDISE Value = 0.00423\n",
      "36 (feature 34): DepartmentDescription_CANDY, TOBACCO, COOKIES Value = 0.00414\n",
      "37 (feature 44): DepartmentDescription_FROZEN FOODS Value = 0.00391\n",
      "38 (feature 53): DepartmentDescription_HOUSEHOLD CHEMICALS/SUPP Value = 0.00389\n",
      "39 (feature 74): DepartmentDescription_PETS AND SUPPLIES Value = 0.00385\n",
      "40 (feature 90): DepartmentDescription_WIRELESS Value = 0.00364\n",
      "41 (feature 25): DepartmentDescription_AUTOMOTIVE Value = 0.00342\n",
      "42 (feature 69): DepartmentDescription_OPTICAL - FRAMES Value = 0.00342\n",
      "43 (feature 41): DepartmentDescription_ELECTRONICS Value = 0.00297\n",
      "44 (feature 60): DepartmentDescription_LADIESWEAR Value = 0.00228\n",
      "45 (feature 35): DepartmentDescription_CELEBRATION Value = 0.00219\n",
      "46 (feature 68): DepartmentDescription_OFFICE SUPPLIES Value = 0.00214\n",
      "47 (feature 26): DepartmentDescription_BAKERY Value = 0.00210\n",
      "48 (feature 52): DepartmentDescription_HORTICULTURE AND ACCESS Value = 0.00205\n",
      "49 (feature 64): DepartmentDescription_MEAT - FRESH & FROZEN Value = 0.00202\n",
      "50 (feature 62): DepartmentDescription_LAWN AND GARDEN Value = 0.00199\n",
      "51 (feature 85): DepartmentDescription_SHOES Value = 0.00192\n",
      "52 (feature 51): DepartmentDescription_HOME MANAGEMENT Value = 0.00186\n",
      "53 (feature 56): DepartmentDescription_INFANT APPAREL Value = 0.00185\n",
      "54 (feature 87): DepartmentDescription_SPORTING GOODS Value = 0.00181\n",
      "55 (feature 36): DepartmentDescription_COMM BREAD Value = 0.00173\n",
      "56 (feature 38): DepartmentDescription_COOK AND DINE Value = 0.00170\n",
      "57 (feature 54): DepartmentDescription_HOUSEHOLD PAPER GOODS Value = 0.00151\n",
      "58 (feature 89): DepartmentDescription_TOYS Value = 0.00116\n",
      "59 (feature 42): DepartmentDescription_FABRICS AND CRAFTS Value = 0.00113\n",
      "60 (feature 50): DepartmentDescription_HOME DECOR Value = 0.00112\n",
      "61 (feature 48): DepartmentDescription_HARDWARE Value = 0.00096\n",
      "62 (feature 76): DepartmentDescription_PHARMACY RX Value = 0.00088\n",
      "63 (feature 79): DepartmentDescription_PRE PACKED DELI Value = 0.00073\n",
      "64 (feature 29): DepartmentDescription_BEDDING Value = 0.00070\n",
      "65 (feature 23): DepartmentDescription_1-HR PHOTO Value = 0.00066\n",
      "66 (feature 27): DepartmentDescription_BATH AND SHOWER Value = 0.00065\n",
      "67 (feature 58): DepartmentDescription_JEWELRY AND SUNGLASSES Value = 0.00058\n",
      "68 (feature 46): DepartmentDescription_GIRLS WEAR, 4-6X  AND 7-14 Value = 0.00055\n",
      "69 (feature 65): DepartmentDescription_MEDIA AND GAMING Value = 0.00050\n",
      "70 (feature 31): DepartmentDescription_BOYS WEAR Value = 0.00045\n",
      "71 (feature 77): DepartmentDescription_PLAYERS AND ELECTRONICS Value = 0.00041\n",
      "72 (feature 37): DepartmentDescription_CONCEPT STORES Value = 0.00038\n",
      "73 (feature 86): DepartmentDescription_SLEEPWEAR/FOUNDATIONS Value = 0.00032\n",
      "74 (feature 32): DepartmentDescription_BRAS & SHAPEWEAR Value = 0.00031\n",
      "75 (feature 81): DepartmentDescription_SEAFOOD Value = 0.00030\n",
      "76 (feature 72): DepartmentDescription_PAINT AND ACCESSORIES Value = 0.00028\n",
      "77 (feature 45): DepartmentDescription_FURNITURE Value = 0.00026\n",
      "78 (feature 71): DepartmentDescription_OTHER DEPARTMENTS Value = 0.00020\n",
      "79 (feature 70): DepartmentDescription_OPTICAL - LENSES Value = 0.00019\n",
      "80 (feature 24): DepartmentDescription_ACCESSORIES Value = 0.00015\n",
      "81 (feature 30): DepartmentDescription_BOOKS AND MAGAZINES Value = 0.00013\n",
      "82 (feature 88): DepartmentDescription_SWIMWEAR/OUTERWEAR Value = 0.00010\n",
      "83 (feature 59): DepartmentDescription_LADIES SOCKS Value = 0.00009\n",
      "84 (feature 61): DepartmentDescription_LARGE HOUSEHOLD GOODS Value = 0.00008\n",
      "85 (feature 78): DepartmentDescription_PLUS AND MATERNITY Value = 0.00007\n",
      "86 (feature 33): DepartmentDescription_CAMERAS AND SUPPLIES Value = 0.00007\n",
      "87 (feature 84): DepartmentDescription_SHEER HOSIERY Value = 0.00006\n",
      "88 (feature 67): DepartmentDescription_MENSWEAR Value = 0.00005\n",
      "89 (feature 82): DepartmentDescription_SEASONAL Value = 0.00000\n",
      "90 (feature 49): DepartmentDescription_HEALTH AND BEAUTY AIDS Value = 0.00000\n",
      "mlogloss = 1.5577096567\n",
      "\n"
     ]
    },
    {
     "data": {
      "image/png": "[encoded data removed]",
      "text/plain": [
       "<matplotlib.figure.Figure at 0x7f5de538e8d0>"
      ]
     },
     "metadata": {},
     "output_type": "display_data"
    }
   ],
   "source": [
    "algorithms = ['rf', 'xgb']\n",
    "algorithm = 'rf'\n",
    "\n",
    "validation = True\n",
    "\n",
    "if validation:\n",
    "    \n",
    "    compute_optimal = False\n",
    "    if compute_optimal:\n",
    "        grid_space = np.linspace(0.1, 0.9, 10)\n",
    "        alphas, scores, min_alpha, min_score = train_and_score(train_dummies, grid_space=grid_space,\n",
    "                                                               algorithm=algorithm, plot_importance=False)\n",
    "        print('MIN ALPHA =', min_alpha, 'MIN_MLOGLOSS =', min_score)\n",
    "        pl.plot(alphas, scores, 'r.--')\n",
    "    else:\n",
    "        mlogloss = train_and_score(train_dummies, algorithm=algorithm)\n",
    "    \n",
    "elif not validation:\n",
    "#     prior_probabilities = get_prior_probabilities(train)\n",
    "    prediction_matrix = fit_predict(train_dummies[[col for col in train_dummies.columns \n",
    "                                            if col not in ['TripType', 'VisitNumber']]].values, \n",
    "                                    train_dummies.TripType.values, \n",
    "                                    test_dummies[[col for col in test_dummies.columns if col not in ['VisitNumber']]].values, \n",
    "                                    algorithm=algorithm)\n",
    "    \n",
    "    prediction_df = pd.DataFrame(prediction_matrix, columns=['TripType_' + str(i) for i in types])\n",
    "    prediction_df['VisitNumber'] = test_dummies.VisitNumber\n",
    "    \n",
    "    prediction_df = prediction_df[['VisitNumber'] + [x for x in prediction_df.columns if x != 'VisitNumber']]\n",
    "    del prediction_matrix\n",
    "    filename = 'prediction.csv'\n",
    "    prediction_df.to_csv(filename, index=False)\n",
    "    print(filename, 'was created')\n",
    "    del prediction_df\n",
    "    "
   ]
  }
 ],
 "metadata": {
  "kernelspec": {
   "display_name": "Python 3",
   "language": "python",
   "name": "python3"
  },
  "language_info": {
   "codemirror_mode": {
    "name": "ipython",
    "version": 3
   },
   "file_extension": ".py",
   "mimetype": "text/x-python",
   "name": "python",
   "nbconvert_exporter": "python",
   "pygments_lexer": "ipython3",
   "version": "3.4.3"
  }
 },
 "nbformat": 4,
 "nbformat_minor": 0
}
